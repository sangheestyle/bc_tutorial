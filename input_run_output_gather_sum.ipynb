{
 "cells": [
  {
   "cell_type": "code",
   "execution_count": 102,
   "metadata": {
    "collapsed": true
   },
   "outputs": [],
   "source": [
    "from time import sleep\n",
    "import multiprocessing\n",
    "import os"
   ]
  },
  {
   "cell_type": "code",
   "execution_count": 103,
   "metadata": {
    "collapsed": false
   },
   "outputs": [],
   "source": [
    "# energy plus\n",
    "def ep(uid):\n",
    "    val = 0\n",
    "    with open('config' + str(uid) + '.idf') as fp:\n",
    "        val = float(fp.readline())\n",
    "    output = val * val\n",
    "    output = os.popen(\"ep  \" + str(output)).read()\n",
    "    sleep(5)\n",
    "    fp = open('result' + str(val) + '.txt', 'w')\n",
    "    fp.write(str(output))\n",
    "    fp.close()\n",
    "    return float(output)"
   ]
  },
  {
   "cell_type": "code",
   "execution_count": 104,
   "metadata": {
    "collapsed": true
   },
   "outputs": [],
   "source": [
    "# generate unique configuration with temperature\n",
    "def gen_config(uid, temp):\n",
    "    fp = open('config' + str(uid) + '.idf', 'w')\n",
    "    fp.write(str(temp))\n",
    "    fp.close()"
   ]
  },
  {
   "cell_type": "code",
   "execution_count": 105,
   "metadata": {
    "collapsed": false
   },
   "outputs": [],
   "source": [
    "# generate idf with temp\n",
    "input_param = range(1, 7)\n",
    "for uid, temp in enumerate(input_param):\n",
    "    gen_config(uid, temp)"
   ]
  },
  {
   "cell_type": "code",
   "execution_count": 106,
   "metadata": {
    "collapsed": false
   },
   "outputs": [
    {
     "data": {
      "text/plain": [
       "91.0"
      ]
     },
     "execution_count": 106,
     "metadata": {},
     "output_type": "execute_result"
    }
   ],
   "source": [
    "p = multiprocessing.Pool(7)\n",
    "uids = range(len(input_param))\n",
    "sum(p.map(ep, uids))"
   ]
  },
  {
   "cell_type": "code",
   "execution_count": 107,
   "metadata": {
    "collapsed": false
   },
   "outputs": [
    {
     "name": "stdout",
     "output_type": "stream",
     "text": [
      "91.0\n"
     ]
    }
   ],
   "source": [
    "# gather and sum\n",
    "total  = 0\n",
    "for val in input_param:\n",
    "    fp = open('result' + str(float(val)) + '.txt', 'r')\n",
    "    for value in fp:\n",
    "        total += float(value)\n",
    "    fp.close()\n",
    "print total"
   ]
  }
 ],
 "metadata": {
  "kernelspec": {
   "display_name": "Python 2",
   "language": "python",
   "name": "python2"
  },
  "language_info": {
   "codemirror_mode": {
    "name": "ipython",
    "version": 2
   },
   "file_extension": ".py",
   "mimetype": "text/x-python",
   "name": "python",
   "nbconvert_exporter": "python",
   "pygments_lexer": "ipython2",
   "version": "2.7.9"
  }
 },
 "nbformat": 4,
 "nbformat_minor": 0
}
